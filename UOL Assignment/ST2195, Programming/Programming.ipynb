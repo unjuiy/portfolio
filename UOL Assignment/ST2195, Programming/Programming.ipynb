{
 "cells": [
  {
   "cell_type": "markdown",
   "id": "56f59fde",
   "metadata": {},
   "source": [
    "# ST2195 Programming for data science\n",
    "## 200615086, InJun Yeo"
   ]
  },
  {
   "cell_type": "code",
   "execution_count": null,
   "id": "7e71e439",
   "metadata": {},
   "outputs": [],
   "source": [
    "import numpy as np\n",
    "import pandas as pd\n",
    "import random\n",
    "from datetime import datetime, timedelta\n",
    "import matplotlib.pyplot as plt\n",
    "\n",
    "from sklearn.linear_model import LinearRegression\n",
    "from sklearn.model_selection import train_test_split\n",
    "from sklearn.preprocessing import OneHotEncoder"
   ]
  },
  {
   "cell_type": "code",
   "execution_count": null,
   "id": "de7b9eff",
   "metadata": {},
   "outputs": [],
   "source": [
    "airports = pd.read_csv(\"./dataverse_files/airports.csv\")\n",
    "carriers = pd.read_csv(\"./dataverse_files/carriers.csv\")\n",
    "planes = pd.read_csv(\"./dataverse_files/plane-data.csv\")"
   ]
  },
  {
   "cell_type": "code",
   "execution_count": null,
   "id": "2fe4210f",
   "metadata": {
    "scrolled": true
   },
   "outputs": [],
   "source": [
    "flight_2005 = pd.read_csv(\"./dataverse_files/flights/2005.csv.bz2\")\n",
    "flight_2006 = pd.read_csv(\"./dataverse_files/flights/2006.csv.bz2\")\n",
    "flight_2007 = pd.read_csv(\"./dataverse_files/flights/2007.csv.bz2\")"
   ]
  },
  {
   "cell_type": "code",
   "execution_count": null,
   "id": "8bf3f757",
   "metadata": {},
   "outputs": [],
   "source": [
    "flight = pd.concat([flight_2005, flight_2006, flight_2007])\n",
    "flight.shape"
   ]
  },
  {
   "cell_type": "code",
   "execution_count": null,
   "id": "e4861ea7",
   "metadata": {},
   "outputs": [],
   "source": [
    "flight = flight[flight.Cancelled != 1]\n",
    "flight.shape"
   ]
  },
  {
   "cell_type": "code",
   "execution_count": null,
   "id": "92c69237",
   "metadata": {},
   "outputs": [],
   "source": [
    "flight.corr()[\"ArrDelay\"][\"DepDelay\"]\n",
    "#0.9202856798860516"
   ]
  },
  {
   "cell_type": "code",
   "execution_count": null,
   "id": "8f4c6849",
   "metadata": {},
   "outputs": [],
   "source": [
    "x = flight[\"ArrDelay\"][(flight[\"ArrDelay\"] > 0) & (flight[\"DepDelay\"] > 0)]\n",
    "y = flight[\"DepDelay\"][(flight[\"ArrDelay\"] > 0) & (flight[\"DepDelay\"] > 0)]\n",
    "\n",
    "plt.figure(figsize=(12, 9))\n",
    "plt.scatter(x, y, c = 'blue', alpha = 0.2)\n",
    "plt.title(\"Scatter Plot (DepDelay & ArrDelay)\", fontsize = 15)\n",
    "plt.xlabel(\"Arrival Delay\", fontsize = 12)\n",
    "plt.ylabel(\"Departure Delay\", fontsize = 12)\n",
    "plt.show()"
   ]
  },
  {
   "cell_type": "code",
   "execution_count": null,
   "id": "e0b7c7de",
   "metadata": {
    "scrolled": true
   },
   "outputs": [],
   "source": [
    "flight = flight.dropna(subset = [\"ArrDelay\"])\n",
    "flight = flight[flight.ArrDelay > 0]\n",
    "flight.shape\n",
    "#9714043"
   ]
  },
  {
   "cell_type": "code",
   "execution_count": null,
   "id": "7b99d55a",
   "metadata": {},
   "outputs": [],
   "source": [
    "flight['Delayed'] = flight['DepDelay'] > 15"
   ]
  },
  {
   "cell_type": "code",
   "execution_count": null,
   "id": "567d3f24",
   "metadata": {},
   "outputs": [],
   "source": [
    "flight = flight.astype({'CRSDepTime':'int', 'CRSArrTime':'int'})\n",
    "\n",
    "flight['DepHour'] = flight['CRSDepTime'] // 100\n",
    "flight['DepMin'] = flight['CRSDepTime'] % 100\n",
    "flight['ArrHour'] = flight['CRSArrTime'] // 100\n",
    "flight['ArrMin'] = flight['CRSArrTime'] % 100\n",
    "\n",
    "flight['DepDate'] = flight[['Year','Month','DayofMonth',\n",
    "                            'DepHour', 'DepMin']].apply(lambda row: ' '.join(row.values.astype(str)), axis=1)\n",
    "flight['ArrDate'] = flight[['Year','Month','DayofMonth',\n",
    "                            'ArrHour', 'ArrMin']].apply(lambda row: ' '.join(row.values.astype(str)), axis=1)\n",
    "\n",
    "flight['DepDate'] = pd.to_datetime(flight['DepDate'], format=\"%Y %m %d %H %M\")\n",
    "flight['ArrDate'] = pd.to_datetime(flight['ArrDate'], format=\"%Y %m %d %H %M\")"
   ]
  },
  {
   "cell_type": "markdown",
   "id": "30ec128e",
   "metadata": {},
   "source": [
    "### 1. When is the best time of day, day of the week, and time of year to fly to minimise delays?"
   ]
  },
  {
   "cell_type": "code",
   "execution_count": null,
   "id": "2b17d632",
   "metadata": {},
   "outputs": [],
   "source": [
    "group_by_hour = pd.DataFrame()\n",
    "\n",
    "temp_grpbyhr = flight.groupby(['DepHour','Delayed'])\n",
    "temp_grpbyhr = temp_grpbyhr.size().reset_index(name='Counts')\n",
    "\n",
    "delayed = temp_grpbyhr[temp_grpbyhr.Delayed != False]['Counts']\n",
    "delayed.index = [0,1,2,3,4,5,6,7,8,9,10,11,12,13,14,15,16,17,18,19,20,21,22,23]\n",
    "group_by_hour['Delayed counts'] = delayed\n",
    "\n",
    "total = temp_grpbyhr.groupby(temp_grpbyhr['DepHour'])['Counts'].sum()\n",
    "group_by_hour['Total'] = total\n",
    "\n",
    "group_by_hour['Proportion of Delayed'] = group_by_hour['Delayed counts'] / group_by_hour['Total'] * 100\n",
    "group_by_hour['Mean DepDelay'] = flight.groupby('DepHour')['DepDelay'].mean()\n",
    "group_by_hour.reset_index(drop = False, inplace = True)\n",
    "group_by_hour.rename(columns={'index':'DepHour'},inplace=True)"
   ]
  },
  {
   "cell_type": "code",
   "execution_count": null,
   "id": "8e298f28",
   "metadata": {
    "scrolled": true
   },
   "outputs": [],
   "source": [
    "group_by_wday = pd.DataFrame()\n",
    "\n",
    "temp_grpbywd = flight.groupby(['DayOfWeek','Delayed'])\n",
    "temp_grpbywd = temp_grpbywd.size().reset_index(name='Counts')\n",
    "\n",
    "delayed = temp_grpbywd[temp_grpbywd.Delayed != False]['Counts']\n",
    "delayed.index = [1,2,3,4,5,6,7]\n",
    "group_by_wday['Delayed counts'] = delayed\n",
    "\n",
    "total = temp_grpbywd.groupby(temp_grpbywd['DayOfWeek'])['Counts'].sum()\n",
    "group_by_wday['Total'] = total\n",
    "\n",
    "group_by_wday['Proportion of Delayed'] = group_by_wday['Delayed counts'] / group_by_wday['Total'] * 100\n",
    "group_by_wday['Mean DepDelay'] = flight.groupby('DayOfWeek')['DepDelay'].mean()\n",
    "group_by_wday.reset_index(drop = False, inplace = True)\n",
    "group_by_wday.rename(columns={'index':'DayOfWeek'},inplace=True)\n",
    "group_by_wday['DayOfWeek'] = [\"Mon\",\"Tue\",\"Wed\",\"Thu\",\"Fri\",\"Sat\",\"Sun\"]\n",
    "group_by_wday = group_by_wday.reindex(index=[6,0,1,2,3,4,5])"
   ]
  },
  {
   "cell_type": "code",
   "execution_count": null,
   "id": "f01747e3",
   "metadata": {},
   "outputs": [],
   "source": [
    "group_by_month = pd.DataFrame()\n",
    "\n",
    "temp_grpbymth = flight.groupby(['Month','Delayed'])\n",
    "temp_grpbymth = temp_grpbymth.size().reset_index(name='Counts')\n",
    "\n",
    "delayed = temp_grpbymth[temp_grpbymth.Delayed != False]['Counts']\n",
    "delayed.index = [1,2,3,4,5,6,7,8,9,10,11,12]\n",
    "group_by_month['Delayed counts'] = delayed\n",
    "\n",
    "total = temp_grpbymth.groupby(temp_grpbymth['Month'])['Counts'].sum()\n",
    "group_by_month['Total'] = total\n",
    "\n",
    "group_by_month['Proportion of Delayed'] = group_by_month['Delayed counts'] / group_by_month['Total'] * 100\n",
    "group_by_month['Mean DepDelay'] = flight.groupby('Month')['DepDelay'].mean()\n",
    "group_by_month.reset_index(drop = False, inplace = True)\n",
    "group_by_month.rename(columns={'index':'Month'},inplace=True)\n",
    "group_by_month['Month'] = [\"Jan\",\"Feb\",\"Mar\",\"Apr\",\"May\",\"Jun\",\"Jul\",\"Aug\",\"Sep\",\"Oct\",\"Nov\",\"Dec\"]"
   ]
  },
  {
   "cell_type": "code",
   "execution_count": null,
   "id": "446aaa76",
   "metadata": {
    "scrolled": false
   },
   "outputs": [],
   "source": [
    "x = range(len(group_by_hour['DepHour']))\n",
    "y1 = group_by_hour['Proportion of Delayed']\n",
    "y2 = group_by_hour['Mean DepDelay']\n",
    "\n",
    "fig, ax1 = plt.subplots(figsize=(12, 9))\n",
    "\n",
    "ax1.bar(x, y1, color='deeppink', label=\"Delayed rate\", alpha=0.5, width=0.7)\n",
    "ax1.set_title(\"Group by Hour\", fontsize = 15)\n",
    "ax1.set_xlabel(\"Hour\")\n",
    "ax1.set_ylabel(\"Delayed rate (%)\")\n",
    "plt.xticks(x, group_by_hour['DepHour'])\n",
    "\n",
    "ax2 = ax1.twinx()\n",
    "\n",
    "ax2.plot(x, y2, '-o', color='red', markersize=3, linewidth=2, alpha=0.7, label=\"DepDelay\")\n",
    "ax2.set_ylabel(\"DepDelay (min)\")\n",
    "\n",
    "ax1.legend(loc='upper right')\n",
    "ax2.legend(loc='upper right', bbox_to_anchor=(1, 0.95))\n",
    "\n",
    "plt.show()"
   ]
  },
  {
   "cell_type": "code",
   "execution_count": null,
   "id": "b56f6071",
   "metadata": {
    "scrolled": false
   },
   "outputs": [],
   "source": [
    "x = range(len(group_by_wday['DayOfWeek']))\n",
    "y1 = group_by_wday['Proportion of Delayed']\n",
    "y2 = group_by_wday['Mean DepDelay']\n",
    "\n",
    "fig, ax1 = plt.subplots(figsize=(12, 9))\n",
    "\n",
    "ax1.bar(x, y1, color='deeppink', label=\"Delayed rate\", alpha=0.5, width=0.7)\n",
    "ax1.set_title(\"Group by Day of Week\", fontsize = 15)\n",
    "ax1.set_xlabel(\"Day of Week\")\n",
    "ax1.set_ylabel(\"Delayed rate (%)\")\n",
    "plt.xticks(x, group_by_wday['DayOfWeek'])\n",
    "\n",
    "ax2 = ax1.twinx()\n",
    "\n",
    "ax2.plot(x, y2, '-o', color='red', markersize=3, linewidth=2, alpha=0.7, label=\"DepDelay\")\n",
    "ax2.set_ylabel(\"DepDelay (min)\")\n",
    "\n",
    "ax1.legend(loc='upper right')\n",
    "ax2.legend(loc='upper right', bbox_to_anchor=(1, 0.95))\n",
    "\n",
    "plt.show()"
   ]
  },
  {
   "cell_type": "code",
   "execution_count": null,
   "id": "72465d2a",
   "metadata": {
    "scrolled": false
   },
   "outputs": [],
   "source": [
    "x = range(len(group_by_month['Month']))\n",
    "y1 = group_by_month['Proportion of Delayed']\n",
    "y2 = group_by_month['Mean DepDelay']\n",
    "\n",
    "fig, ax1 = plt.subplots(figsize=(12, 9))\n",
    "\n",
    "ax1.bar(x, y1, color='deeppink', label=\"Delayed rate\", alpha=0.5, width=0.7)\n",
    "ax1.set_title(\"Group by Month\", fontsize = 15)\n",
    "ax1.set_xlabel(\"Month\")\n",
    "ax1.set_ylabel(\"Delayed rate (%)\")\n",
    "plt.xticks(x, group_by_month['Month'])\n",
    "\n",
    "ax2 = ax1.twinx()\n",
    "\n",
    "ax2.plot(x, y2, '-o', color='red', markersize=3, linewidth=2, alpha=0.7, label=\"DepDelay\")\n",
    "ax2.set_ylabel(\"DepDelay (min)\")\n",
    "\n",
    "ax1.legend(loc='upper right')\n",
    "ax2.legend(loc='upper right', bbox_to_anchor=(1, 0.95))\n",
    "\n",
    "plt.show()"
   ]
  },
  {
   "cell_type": "markdown",
   "id": "7354833d",
   "metadata": {},
   "source": [
    "## 2. Do older planes suffer more delays?"
   ]
  },
  {
   "cell_type": "code",
   "execution_count": null,
   "id": "5c27ad2a",
   "metadata": {
    "scrolled": true
   },
   "outputs": [],
   "source": [
    "flight_q2 = pd.merge(flight,planes, how='left', left_on=\"TailNum\", right_on=\"tailnum\")\n",
    "flight_q2 = flight_q2[[\"year\",\"CarrierDelay\"]]\n",
    "flight_q2.rename(columns={'year':'Manufacture Year'},inplace=True)\n",
    "flight_q2 = flight_q2.dropna()"
   ]
  },
  {
   "cell_type": "code",
   "execution_count": null,
   "id": "190e18e1",
   "metadata": {},
   "outputs": [],
   "source": [
    "flight_q2['Manufacture Year'].unique()"
   ]
  },
  {
   "cell_type": "code",
   "execution_count": null,
   "id": "ae991cb8",
   "metadata": {
    "scrolled": true
   },
   "outputs": [],
   "source": [
    "non_year = flight_q2[(flight_q2['Manufacture Year'] == 'None')|(flight_q2['Manufacture Year'] == '0000')].index\n",
    "flight_q2.drop(non_year, inplace=True)\n",
    "flight_q2['Manufacture Year'].unique()"
   ]
  },
  {
   "cell_type": "code",
   "execution_count": null,
   "id": "a486de27",
   "metadata": {},
   "outputs": [],
   "source": [
    "flight_q2 = flight_q2.astype({'Manufacture Year':'int'})"
   ]
  },
  {
   "cell_type": "code",
   "execution_count": null,
   "id": "774ffe27",
   "metadata": {
    "scrolled": false
   },
   "outputs": [],
   "source": [
    "x = flight_q2['Manufacture Year']\n",
    "y = flight_q2['CarrierDelay']\n",
    "year_order = list(range(flight_q2['Manufacture Year'].min(), flight_q2['Manufacture Year'].max()))\n",
    "\n",
    "plt.figure(figsize=(12, 9))\n",
    "plt.scatter(x, y, c = 'green', alpha = 0.5)\n",
    "plt.xticks(year_order, rotation=90)\n",
    "plt.title(\"Correlation between Manufacture Year and Carrier Delay\", fontsize = 15)\n",
    "plt.xlabel(\"Manufacture Year\", fontsize = 12)\n",
    "plt.ylabel(\"Carrier Delay (min)\", fontsize = 12)\n",
    "plt.show()"
   ]
  },
  {
   "cell_type": "code",
   "execution_count": null,
   "id": "2e7c63d6",
   "metadata": {
    "scrolled": true
   },
   "outputs": [],
   "source": [
    "flight_q2.groupby(['Manufacture Year']).count()"
   ]
  },
  {
   "cell_type": "code",
   "execution_count": null,
   "id": "3fb197a7",
   "metadata": {},
   "outputs": [],
   "source": [
    "flight_q2.corr()[\"CarrierDelay\"][\"Manufacture Year\"]\n",
    "#0.0016321609213292645"
   ]
  },
  {
   "cell_type": "markdown",
   "id": "112c3c71",
   "metadata": {},
   "source": [
    "## 3. How does the number of people flying between different locations change over time?"
   ]
  },
  {
   "cell_type": "code",
   "execution_count": null,
   "id": "99230f9d",
   "metadata": {},
   "outputs": [],
   "source": [
    "migration_2005 = airports[[\"iata\",\"state\"]]\n",
    "migration_2006 = airports[[\"iata\",\"state\"]]\n",
    "migration_2007 = airports[[\"iata\",\"state\"]]"
   ]
  },
  {
   "cell_type": "code",
   "execution_count": null,
   "id": "91e1421b",
   "metadata": {},
   "outputs": [],
   "source": [
    "route_2005 = flight[flight['Year'] == 2005]\n",
    "route_2005 = route_2005.loc[:,['Origin','Dest']]\n",
    "route_2005 = route_2005.value_counts().reset_index(name='counts')\n",
    "\n",
    "route_2006 = flight[flight['Year'] == 2006]\n",
    "route_2006 = route_2006.loc[:,['Origin','Dest']]\n",
    "route_2006 = route_2006.value_counts().reset_index(name='counts')\n",
    "\n",
    "route_2007 = flight[flight['Year'] == 2007]\n",
    "route_2007 = route_2007.loc[:,['Origin','Dest']]\n",
    "route_2007 = route_2007.value_counts().reset_index(name='counts')"
   ]
  },
  {
   "cell_type": "code",
   "execution_count": null,
   "id": "c51a6a7d",
   "metadata": {
    "scrolled": true
   },
   "outputs": [],
   "source": [
    "migration_2005 = pd.merge(migration_2005, route_2005.groupby(['Dest']).sum(), how='left', left_on=\"iata\", right_on=\"Dest\")\n",
    "migration_2005 = migration_2005.rename(columns={'counts':'outflow'})\n",
    "migration_2005 = pd.merge(migration_2005, route_2005.groupby(['Origin']).sum(), how='left', left_on=\"iata\", right_on=\"Origin\")\n",
    "migration_2005 = migration_2005.rename(columns={'counts':'inflow'})\n",
    "migration_2005 = migration_2005.loc[migration_2005[[\"outflow\",\"inflow\"]].dropna(how='all').index]\n",
    "migration_2005['Total flights'] = migration_2005['outflow'] + migration_2005['inflow']\n",
    "migration_2005 = migration_2005.groupby('state').sum()\n",
    "migration_2005 = migration_2005.sort_values('Total flights', ascending=False)\n",
    "\n",
    "migration_2006 = pd.merge(migration_2006, route_2006.groupby(['Dest']).sum(), how='left', left_on=\"iata\", right_on=\"Dest\")\n",
    "migration_2006 = migration_2006.rename(columns={'counts':'outflow'})\n",
    "migration_2006 = pd.merge(migration_2006, route_2006.groupby(['Origin']).sum(), how='left', left_on=\"iata\", right_on=\"Origin\")\n",
    "migration_2006 = migration_2006.rename(columns={'counts':'inflow'})\n",
    "migration_2006 = migration_2006.loc[migration_2006[[\"outflow\",\"inflow\"]].dropna(how='all').index]\n",
    "migration_2006['Total flights'] = migration_2006['outflow'] + migration_2006['inflow']\n",
    "migration_2006 = migration_2006.groupby('state').sum()\n",
    "migration_2006 = migration_2006.sort_values('Total flights', ascending=False)\n",
    "\n",
    "migration_2007 = pd.merge(migration_2007, route_2007.groupby(['Dest']).sum(), how='left', left_on=\"iata\", right_on=\"Dest\")\n",
    "migration_2007 = migration_2007.rename(columns={'counts':'outflow'})\n",
    "migration_2007 = pd.merge(migration_2007, route_2007.groupby(['Origin']).sum(), how='left', left_on=\"iata\", right_on=\"Origin\")\n",
    "migration_2007 = migration_2007.rename(columns={'counts':'inflow'})\n",
    "migration_2007 = migration_2007.loc[migration_2007[[\"outflow\",\"inflow\"]].dropna(how='all').index]\n",
    "migration_2007['Total flights'] = migration_2007['outflow'] + migration_2007['inflow']\n",
    "migration_2007 = migration_2007.groupby('state').sum()\n",
    "migration_2007 = migration_2007.sort_values('Total flights', ascending=False)"
   ]
  },
  {
   "cell_type": "code",
   "execution_count": null,
   "id": "5eb99ba0",
   "metadata": {},
   "outputs": [],
   "source": [
    "print('Total flights in 2005 is', migration_2005['Total flights'].sum())\n",
    "print('Total flights in 2006 is', migration_2006['Total flights'].sum())\n",
    "print('Total flights in 2007 is', migration_2007['Total flights'].sum())"
   ]
  },
  {
   "cell_type": "code",
   "execution_count": null,
   "id": "787a8002",
   "metadata": {},
   "outputs": [],
   "source": [
    "ratio05 = migration_2005['Total flights']\n",
    "labels05 = migration_2005.index\n",
    "ratio06 = migration_2006['Total flights']\n",
    "labels06 = migration_2006.index\n",
    "ratio07 = migration_2007['Total flights']\n",
    "labels07 = migration_2007.index\n",
    "wedgeprops={'width': 0.7, 'edgecolor': 'w', 'linewidth': 5}\n",
    "\n",
    "\n",
    "fig, ax = plt.subplots(1, 3, figsize=(18, 6))\n",
    "\n",
    "ax[0].pie(ratio05, labels=labels05, startangle=90, counterclock=False, \n",
    "          textprops={'fontsize': 12}, \n",
    "          autopct=lambda p: format(p, '.2f') if p > 5 else None, wedgeprops=wedgeprops)\n",
    "ax[0].set_title(\"2005\", fontsize=15, weight='bold')\n",
    "\n",
    "ax[1].pie(ratio06, labels=labels06, startangle=90, counterclock=False, \n",
    "          textprops={'fontsize': 12}, \n",
    "          autopct=lambda p: format(p, '.2f') if p > 5 else None, wedgeprops=wedgeprops)\n",
    "ax[1].set_title(\"2006\", fontsize=15, weight='bold')\n",
    "\n",
    "ax[2].pie(ratio07, labels=labels07, startangle=90, counterclock=False, \n",
    "          textprops={'fontsize': 12}, \n",
    "          autopct=lambda p: format(p, '.2f') if p > 5 else None, wedgeprops=wedgeprops)\n",
    "ax[2].set_title(\"2007\", fontsize=15, weight='bold')\n",
    "\n",
    "plt.show()"
   ]
  },
  {
   "cell_type": "markdown",
   "id": "b052f86a",
   "metadata": {},
   "source": [
    "## 4. Can you detect cascading failures as delays in one airport create delays in others?"
   ]
  },
  {
   "cell_type": "code",
   "execution_count": null,
   "id": "7211ca66",
   "metadata": {
    "scrolled": true
   },
   "outputs": [],
   "source": [
    "flight_q4 = flight[['DepDate', 'ArrDate',\n",
    "                    'ArrDelay', 'LateAircraftDelay',\n",
    "                    'Origin', 'Dest']]\n",
    "flight_q4"
   ]
  },
  {
   "cell_type": "code",
   "execution_count": null,
   "id": "bf378129",
   "metadata": {},
   "outputs": [],
   "source": [
    "flight_q4 = flight_q4.drop(flight_q4[flight_q4['DepDate'] > flight_q4['ArrDate']].index)\n",
    "flight_q4 = flight_q4.sort_values('DepDate')\n",
    "flight_q4"
   ]
  },
  {
   "cell_type": "code",
   "execution_count": null,
   "id": "0454ced2",
   "metadata": {
    "scrolled": true
   },
   "outputs": [],
   "source": [
    "LAD = flight_q4\n",
    "LAD['LateAircraftDelay'] = LAD['LateAircraftDelay'].replace(0, np.NaN)\n",
    "LAD = LAD.dropna()\n",
    "LAD = LAD.sort_values('ArrDate')\n",
    "LAD"
   ]
  },
  {
   "cell_type": "code",
   "execution_count": null,
   "id": "b4c1b00f",
   "metadata": {
    "scrolled": true
   },
   "outputs": [],
   "source": [
    "cf_count = 0\n",
    "for k in range(0,LAD.shape[0]):\n",
    "    flight_q4.next_flight = (LAD.iloc[k,1] < flight_q4.DepDate) & (LAD.iloc[k,1] + timedelta(minutes=LAD.iloc[k,2]+10) > flight_q4.DepDate)\n",
    "    flight_q4.same_airport = LAD.iloc[k,5] == flight_q4.Origin\n",
    "    if (flight_q4.next_flight & flight_q4.same_airport).sum() > 0:\n",
    "        if flight_q4[flight_q4.next_flight & flight_q4.same_airport].iloc[0,2] > 0:\n",
    "            cf_count = cf_count + 1\n",
    "cf_count"
   ]
  },
  {
   "cell_type": "code",
   "execution_count": null,
   "id": "1555db05",
   "metadata": {},
   "outputs": [],
   "source": [
    "print(\"The probability of the cascading failures is\", round(cf_count / LAD.shape[0] * 100,2),\"%\")\n",
    "\n",
    "#87075/289119*100 = 30.12%\n",
    "#93860/307255*100 = 30.55%\n",
    "#104899/337415*100 = 31.09%\n",
    "#125197/400324*100 = 31.27%"
   ]
  },
  {
   "cell_type": "markdown",
   "id": "0e795280",
   "metadata": {},
   "source": [
    "## 5. Use the available variables to construct a model that predicts delays."
   ]
  },
  {
   "cell_type": "code",
   "execution_count": null,
   "id": "a985b8de",
   "metadata": {
    "scrolled": true
   },
   "outputs": [],
   "source": [
    "random_index = random.sample(range(flight.shape[0]), 5000)\n",
    "flight_q5 = flight.reset_index()\n",
    "flight_q5 = flight_q5.loc[random_index]\n",
    "flight_q5"
   ]
  },
  {
   "cell_type": "code",
   "execution_count": null,
   "id": "5b86785d",
   "metadata": {},
   "outputs": [],
   "source": [
    "ArrDelay = flight_q5['ArrDelay']"
   ]
  },
  {
   "cell_type": "code",
   "execution_count": null,
   "id": "5fc51de2",
   "metadata": {},
   "outputs": [],
   "source": [
    "flight_q5 = pd.merge(flight_q5, planes, left_on = 'TailNum', right_on = 'tailnum')"
   ]
  },
  {
   "cell_type": "code",
   "execution_count": null,
   "id": "7513cb85",
   "metadata": {},
   "outputs": [],
   "source": [
    "flight_q5 = flight_q5[['Year','Month','DayofMonth','DayOfWeek','TailNum','year']]"
   ]
  },
  {
   "cell_type": "code",
   "execution_count": null,
   "id": "651e8e80",
   "metadata": {},
   "outputs": [],
   "source": [
    "flight_q5 = flight_q5[flight_q5.year != 'None'].dropna()"
   ]
  },
  {
   "cell_type": "code",
   "execution_count": null,
   "id": "1c5088ee",
   "metadata": {},
   "outputs": [],
   "source": [
    "LRegression = LinearRegression()"
   ]
  },
  {
   "cell_type": "code",
   "execution_count": null,
   "id": "6b051cb8",
   "metadata": {
    "scrolled": true
   },
   "outputs": [],
   "source": [
    "enc = OneHotEncoder()\n",
    "enc_flight_q5 = pd.DataFrame(enc.fit_transform(flight_q5[['TailNum']]).toarray())\n",
    "flight_q5 = flight_q5.join(enc_flight_q5)"
   ]
  },
  {
   "cell_type": "code",
   "execution_count": null,
   "id": "4e84fe6d",
   "metadata": {},
   "outputs": [],
   "source": [
    "flight_q5 = flight_q5.drop('TailNum', 1)"
   ]
  },
  {
   "cell_type": "code",
   "execution_count": null,
   "id": "039aa5a6",
   "metadata": {},
   "outputs": [],
   "source": [
    "sample = flight_q5.dropna().head(2000)\n",
    "predict_y = ArrDelay.dropna().head(2000)"
   ]
  },
  {
   "cell_type": "code",
   "execution_count": null,
   "id": "f5da341d",
   "metadata": {},
   "outputs": [],
   "source": [
    "x_train, x_test, y_train, y_test = train_test_split(sample, predict_y, test_size=0.3, shuffle=True, random_state=42)"
   ]
  },
  {
   "cell_type": "code",
   "execution_count": null,
   "id": "0c5a6ecc",
   "metadata": {
    "scrolled": true
   },
   "outputs": [],
   "source": [
    "LRegression.fit(x_train, y_train)"
   ]
  },
  {
   "cell_type": "code",
   "execution_count": null,
   "id": "60dd111f",
   "metadata": {
    "scrolled": true
   },
   "outputs": [],
   "source": [
    "y_hat = LRegression.predict(x_test)\n",
    "y_hat"
   ]
  },
  {
   "cell_type": "code",
   "execution_count": null,
   "id": "2a228745",
   "metadata": {
    "scrolled": true
   },
   "outputs": [],
   "source": [
    "y_test = y_test.reset_index()\n",
    "y_test[\"y_hat\"] = pd.DataFrame({\"y_hat\":y_hat})\n",
    "predict_evaluation = y_test[['ArrDelay','y_hat']]\n",
    "predict_evaluation"
   ]
  },
  {
   "cell_type": "code",
   "execution_count": null,
   "id": "be484286",
   "metadata": {},
   "outputs": [],
   "source": [
    "predict_evaluation.corr()[\"ArrDelay\"][\"y_hat\"]"
   ]
  }
 ],
 "metadata": {
  "kernelspec": {
   "display_name": "Python 3",
   "language": "python",
   "name": "python3"
  },
  "language_info": {
   "codemirror_mode": {
    "name": "ipython",
    "version": 3
   },
   "file_extension": ".py",
   "mimetype": "text/x-python",
   "name": "python",
   "nbconvert_exporter": "python",
   "pygments_lexer": "ipython3",
   "version": "3.8.8"
  }
 },
 "nbformat": 4,
 "nbformat_minor": 5
}
